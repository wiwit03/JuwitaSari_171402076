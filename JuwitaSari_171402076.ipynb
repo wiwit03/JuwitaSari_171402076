{
 "cells": [
  {
   "cell_type": "code",
   "execution_count": 12,
   "metadata": {},
   "outputs": [
    {
     "name": "stdout",
     "output_type": "stream",
     "text": [
      "Menampilkan deret fibonacci sebanyak a buah\n",
      "masukkan a: 3\n",
      "2\n",
      "3\n",
      "5\n",
      "8\n"
     ]
    }
   ],
   "source": [
    "class fibonacci:\n",
    "    def fib(n):\n",
    "        if (n <= 2):    #jika n lebih kecil sama dengan 2 maka akan keluar 1\n",
    "            return 1\n",
    "        else:\n",
    "            return (fib(n-1)+fib(n-2))   #fib(n)=fib(n-1)=fib(n-2)\n",
    "print (\"Menampilkan deret fibonacci sebanyak a buah\")\n",
    "n = int (input(\"masukkan a: \"))\n",
    "for i in range (n,7):   #hasil yg keluar antara dari pertama sampai n \n",
    "    print (fib(i))"
   ]
  },
  {
   "cell_type": "code",
   "execution_count": null,
   "metadata": {},
   "outputs": [],
   "source": []
  }
 ],
 "metadata": {
  "kernelspec": {
   "display_name": "Python 3",
   "language": "python",
   "name": "python3"
  },
  "language_info": {
   "codemirror_mode": {
    "name": "ipython",
    "version": 3
   },
   "file_extension": ".py",
   "mimetype": "text/x-python",
   "name": "python",
   "nbconvert_exporter": "python",
   "pygments_lexer": "ipython3",
   "version": "3.7.2"
  }
 },
 "nbformat": 4,
 "nbformat_minor": 2
}
